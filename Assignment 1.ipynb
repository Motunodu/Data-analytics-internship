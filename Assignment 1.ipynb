{
 "cells": [
  {
   "cell_type": "markdown",
   "id": "57f45fea-8502-4ade-bf85-e8975b260373",
   "metadata": {},
   "source": [
    "Name=['Bola','Biyi','Mo', 'Bayo']"
   ]
  },
  {
   "cell_type": "code",
   "execution_count": 3,
   "id": "a25438ca-1c83-44e3-90c7-39a6c7f1d4f7",
   "metadata": {},
   "outputs": [],
   "source": [
    "Name = ['Bola','Biyi','Mo', 'Bayo']"
   ]
  },
  {
   "cell_type": "code",
   "execution_count": 4,
   "id": "08c4edda-b1bb-4394-9357-0a7bcdee49c8",
   "metadata": {},
   "outputs": [
    {
     "data": {
      "text/plain": [
       "['Biyi', 'Mo']"
      ]
     },
     "execution_count": 4,
     "metadata": {},
     "output_type": "execute_result"
    }
   ],
   "source": [
    "Name[1:3]"
   ]
  },
  {
   "cell_type": "code",
   "execution_count": 5,
   "id": "e0d126a2-84e5-4ccf-9094-4b4f068135f5",
   "metadata": {},
   "outputs": [],
   "source": [
    "School = ['UNILAG', 'UI', 'UNIBEN', 'OOU']"
   ]
  },
  {
   "cell_type": "code",
   "execution_count": 6,
   "id": "78c18698-f8d7-49ef-a851-657b212e2f0b",
   "metadata": {},
   "outputs": [
    {
     "data": {
      "text/plain": [
       "['UNILAG', 'UI']"
      ]
     },
     "execution_count": 6,
     "metadata": {},
     "output_type": "execute_result"
    }
   ],
   "source": [
    "School[0:2]"
   ]
  },
  {
   "cell_type": "code",
   "execution_count": 7,
   "id": "24984dfc-457a-4f8b-8e62-1cd8ccb9d324",
   "metadata": {},
   "outputs": [],
   "source": [
    "location = ['Ibadan', 'Lagos', 'Osun', 'Abuja', 'Ekiti']"
   ]
  },
  {
   "cell_type": "code",
   "execution_count": 10,
   "id": "cdbf7172-db41-4c46-b741-91eccf42710e",
   "metadata": {},
   "outputs": [
    {
     "data": {
      "text/plain": [
       "['Ibadan', 'Lagos', 'Osun']"
      ]
     },
     "execution_count": 10,
     "metadata": {},
     "output_type": "execute_result"
    }
   ],
   "source": [
    "location[0:3]"
   ]
  },
  {
   "cell_type": "code",
   "execution_count": 11,
   "id": "ee3caabb-96b4-4fb9-bdc2-93ecea24a448",
   "metadata": {},
   "outputs": [],
   "source": [
    "Stores = ['Shoprite', 'FoodCo', 'Ace']"
   ]
  },
  {
   "cell_type": "code",
   "execution_count": 12,
   "id": "263e9855-dba2-4256-891e-c6166c35be8f",
   "metadata": {},
   "outputs": [
    {
     "data": {
      "text/plain": [
       "['Shoprite', 'FoodCo']"
      ]
     },
     "execution_count": 12,
     "metadata": {},
     "output_type": "execute_result"
    }
   ],
   "source": [
    "Stores[-3:-1]"
   ]
  },
  {
   "cell_type": "code",
   "execution_count": 13,
   "id": "fdc23422-e3d3-4948-b0e3-03fe9de928e9",
   "metadata": {},
   "outputs": [],
   "source": [
    "Cars = ['Audi','Toyota','Hyundai','Benz', 'Nissan','Rolls Royce']"
   ]
  },
  {
   "cell_type": "code",
   "execution_count": 14,
   "id": "1fe6e2f4-e519-4a40-b532-bb8f0a3108fc",
   "metadata": {},
   "outputs": [
    {
     "data": {
      "text/plain": [
       "['Hyundai', 'Benz']"
      ]
     },
     "execution_count": 14,
     "metadata": {},
     "output_type": "execute_result"
    }
   ],
   "source": [
    "Cars[-4:-2]"
   ]
  },
  {
   "cell_type": "code",
   "execution_count": 15,
   "id": "34691ae7-6b2e-4f73-98e6-5f843dcfbe0d",
   "metadata": {},
   "outputs": [],
   "source": [
    "price = ['$100', '$80', '$60', '$50']"
   ]
  },
  {
   "cell_type": "code",
   "execution_count": 16,
   "id": "50afb42c-8491-41b1-aa7b-4f0cc0e30ec9",
   "metadata": {},
   "outputs": [
    {
     "data": {
      "text/plain": [
       "['$100', '$80']"
      ]
     },
     "execution_count": 16,
     "metadata": {},
     "output_type": "execute_result"
    }
   ],
   "source": [
    "price[:-2]"
   ]
  },
  {
   "cell_type": "code",
   "execution_count": 17,
   "id": "c48aed6a-5c77-428f-b83a-df751ae2e810",
   "metadata": {},
   "outputs": [],
   "source": [
    "Age = [18,15,19,30,67]"
   ]
  },
  {
   "cell_type": "code",
   "execution_count": 19,
   "id": "2ea4d052-345b-43a6-bd5b-32f7fbca8df2",
   "metadata": {},
   "outputs": [
    {
     "data": {
      "text/plain": [
       "[19, 30, 67]"
      ]
     },
     "execution_count": 19,
     "metadata": {},
     "output_type": "execute_result"
    }
   ],
   "source": [
    "Age[2:]"
   ]
  },
  {
   "cell_type": "code",
   "execution_count": 20,
   "id": "287d52c9-ff60-41dc-9e92-1a03e1878496",
   "metadata": {},
   "outputs": [],
   "source": [
    "OS = ['windows', 'linux', 'mac']"
   ]
  },
  {
   "cell_type": "code",
   "execution_count": 21,
   "id": "7705b79e-76fe-4e8f-ab26-da62085c314b",
   "metadata": {},
   "outputs": [
    {
     "data": {
      "text/plain": [
       "['windows', 'linux']"
      ]
     },
     "execution_count": 21,
     "metadata": {},
     "output_type": "execute_result"
    }
   ],
   "source": [
    "OS[:2]"
   ]
  },
  {
   "cell_type": "code",
   "execution_count": 24,
   "id": "85f02fb2-e3fb-49a8-b381-661ae5e171e2",
   "metadata": {},
   "outputs": [],
   "source": [
    "Department = ['Accounting&Economics', 'Psychology', 'Medical sciences', 'Health Sciences']"
   ]
  },
  {
   "cell_type": "code",
   "execution_count": 25,
   "id": "7f77eec7-1a29-4d59-9d12-4ee5693f5125",
   "metadata": {},
   "outputs": [
    {
     "data": {
      "text/plain": [
       "['Accounting&Economics', 'Psychology', 'Medical sciences']"
      ]
     },
     "execution_count": 25,
     "metadata": {},
     "output_type": "execute_result"
    }
   ],
   "source": [
    "Department[0:3]"
   ]
  },
  {
   "cell_type": "code",
   "execution_count": 26,
   "id": "10c8cf9b-de6a-465d-910e-20583d2e1137",
   "metadata": {},
   "outputs": [],
   "source": [
    "Course = ['Accounting', 'Economics', 'Child Psychology', 'Microbiology', 'Public health']"
   ]
  },
  {
   "cell_type": "code",
   "execution_count": 27,
   "id": "c8f583f5-2be2-44c8-9547-31b4721750c9",
   "metadata": {},
   "outputs": [
    {
     "data": {
      "text/plain": [
       "['Child Psychology', 'Microbiology']"
      ]
     },
     "execution_count": 27,
     "metadata": {},
     "output_type": "execute_result"
    }
   ],
   "source": [
    "Course[2:4]"
   ]
  },
  {
   "cell_type": "code",
   "execution_count": null,
   "id": "ef02eb40-45e0-4fd1-b038-fd9c08f9ecd2",
   "metadata": {},
   "outputs": [],
   "source": []
  }
 ],
 "metadata": {
  "kernelspec": {
   "display_name": "Python 3 (ipykernel)",
   "language": "python",
   "name": "python3"
  },
  "language_info": {
   "codemirror_mode": {
    "name": "ipython",
    "version": 3
   },
   "file_extension": ".py",
   "mimetype": "text/x-python",
   "name": "python",
   "nbconvert_exporter": "python",
   "pygments_lexer": "ipython3",
   "version": "3.9.7"
  }
 },
 "nbformat": 4,
 "nbformat_minor": 5
}
