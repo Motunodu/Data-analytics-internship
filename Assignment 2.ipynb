{
 "cells": [
  {
   "cell_type": "code",
   "execution_count": 1,
   "id": "68883598-6a4d-4f45-bf4f-c17ad818d180",
   "metadata": {},
   "outputs": [],
   "source": [
    "#ASSIGNMENT 2\n",
    "#Write any 5 string method and 5 list method\n",
    "#STRING METHOD"
   ]
  },
  {
   "cell_type": "code",
   "execution_count": 3,
   "id": "be8c2e05-8533-4f59-b99c-ae3998d2416f",
   "metadata": {},
   "outputs": [],
   "source": [
    "name = 'motunrayo'"
   ]
  },
  {
   "cell_type": "code",
   "execution_count": 5,
   "id": "57e92741-fce4-4924-8d0d-15b5280f884b",
   "metadata": {},
   "outputs": [
    {
     "name": "stdout",
     "output_type": "stream",
     "text": [
      "MOTUNRAYO\n"
     ]
    }
   ],
   "source": [
    "print(name.upper())"
   ]
  },
  {
   "cell_type": "code",
   "execution_count": 7,
   "id": "9de62f10-1308-4bf7-ac97-d615ecfe006f",
   "metadata": {},
   "outputs": [],
   "source": [
    "school = 'UNILAG'"
   ]
  },
  {
   "cell_type": "code",
   "execution_count": 8,
   "id": "8b633065-6a50-4ed3-b635-b44d7773187e",
   "metadata": {},
   "outputs": [
    {
     "name": "stdout",
     "output_type": "stream",
     "text": [
      "unilag\n"
     ]
    }
   ],
   "source": [
    "print(school.lower())"
   ]
  },
  {
   "cell_type": "code",
   "execution_count": 9,
   "id": "a12c9c69-d51f-45eb-b993-1f5ef357195f",
   "metadata": {},
   "outputs": [],
   "source": [
    "course = 'GET 101'"
   ]
  },
  {
   "cell_type": "code",
   "execution_count": 11,
   "id": "5c7b2109-3299-44e9-b704-87dcd2308566",
   "metadata": {},
   "outputs": [
    {
     "name": "stdout",
     "output_type": "stream",
     "text": [
      "GEDS 101\n"
     ]
    }
   ],
   "source": [
    "print(course.replace('GET', 'GEDS'))"
   ]
  },
  {
   "cell_type": "code",
   "execution_count": 12,
   "id": "fcd73191-2f51-4f88-b7fd-df506e80f4d3",
   "metadata": {},
   "outputs": [],
   "source": [
    "media = 'Hollywood'"
   ]
  },
  {
   "cell_type": "code",
   "execution_count": 13,
   "id": "2e937f45-15f9-40fe-a7c5-2740766aad56",
   "metadata": {},
   "outputs": [
    {
     "name": "stdout",
     "output_type": "stream",
     "text": [
      "3\n"
     ]
    }
   ],
   "source": [
    "print(media.count('o'))"
   ]
  },
  {
   "cell_type": "code",
   "execution_count": 14,
   "id": "06a81c0c-5427-4d83-bbe3-76b7a385af0b",
   "metadata": {},
   "outputs": [],
   "source": [
    "church = 'Redeemed'"
   ]
  },
  {
   "cell_type": "code",
   "execution_count": 16,
   "id": "cdd1e437-5e03-48e3-8830-11cd63194094",
   "metadata": {},
   "outputs": [
    {
     "name": "stdout",
     "output_type": "stream",
     "text": [
      "5\n"
     ]
    }
   ],
   "source": [
    "print(church.find('m'))"
   ]
  },
  {
   "cell_type": "code",
   "execution_count": 17,
   "id": "a652108f-c3dd-4826-867a-e03b61e1501f",
   "metadata": {},
   "outputs": [],
   "source": [
    "#LIST METHOD"
   ]
  },
  {
   "cell_type": "code",
   "execution_count": 24,
   "id": "96707fa1-c126-4394-878f-0e9b08fe43fd",
   "metadata": {},
   "outputs": [],
   "source": [
    "names = ['Bayo', 'Tola', 'Abike', 'Tobi']"
   ]
  },
  {
   "cell_type": "code",
   "execution_count": 25,
   "id": "c0a4a916-414d-45f6-a536-cb846dce5c48",
   "metadata": {},
   "outputs": [
    {
     "name": "stdout",
     "output_type": "stream",
     "text": [
      "['Bayo', 'Tola', 'Abike', 'Tobi', 'Mo']\n"
     ]
    }
   ],
   "source": [
    "names.append('Mo')\n",
    "print(names)"
   ]
  },
  {
   "cell_type": "code",
   "execution_count": 29,
   "id": "1558a512-0ae3-438d-9697-9749dfb66220",
   "metadata": {},
   "outputs": [],
   "source": [
    "course = ['Psychology','Mathematics','Microbiology']"
   ]
  },
  {
   "cell_type": "code",
   "execution_count": 30,
   "id": "60918a1a-fbeb-491a-9a3b-159f5d7e80e3",
   "metadata": {},
   "outputs": [
    {
     "name": "stdout",
     "output_type": "stream",
     "text": [
      "['Psychology', 'Mathematics', 'Biochemistry', 'Microbiology']\n"
     ]
    }
   ],
   "source": [
    "course.insert(2,'Biochemistry')\n",
    "print(course)"
   ]
  },
  {
   "cell_type": "code",
   "execution_count": 31,
   "id": "93bd3967-bd95-4621-8113-981b89faa9f6",
   "metadata": {},
   "outputs": [],
   "source": [
    "school = ['UNILAG','UI','UNIBEN','UNIOSUN']"
   ]
  },
  {
   "cell_type": "code",
   "execution_count": 33,
   "id": "34af57de-1755-4d30-afd8-371181d10ec5",
   "metadata": {},
   "outputs": [
    {
     "name": "stdout",
     "output_type": "stream",
     "text": [
      "2\n"
     ]
    }
   ],
   "source": [
    "print(school.index('UNIBEN'))"
   ]
  },
  {
   "cell_type": "code",
   "execution_count": 37,
   "id": "5e5ad654-444d-4950-9b35-dfc967b21421",
   "metadata": {},
   "outputs": [],
   "source": [
    "Banks = ['Access','Wema', 'UBA','Gtbank']"
   ]
  },
  {
   "cell_type": "code",
   "execution_count": 38,
   "id": "9a298641-1503-42d2-afcd-0da6db8750c8",
   "metadata": {},
   "outputs": [
    {
     "name": "stdout",
     "output_type": "stream",
     "text": [
      "['Access', 'Gtbank', 'UBA', 'Wema']\n"
     ]
    }
   ],
   "source": [
    "Banks.sort()\n",
    "print(Banks)"
   ]
  },
  {
   "cell_type": "code",
   "execution_count": 41,
   "id": "21c01673-af76-49ba-8802-1575c2da251c",
   "metadata": {},
   "outputs": [],
   "source": [
    "Age =['19','15','12','13','11']"
   ]
  },
  {
   "cell_type": "code",
   "execution_count": 49,
   "id": "e6137c9b-75ae-46d3-a1c9-0a2d02bd61b2",
   "metadata": {},
   "outputs": [
    {
     "name": "stdout",
     "output_type": "stream",
     "text": [
      "['19', '15', '12', '13', '11']\n"
     ]
    }
   ],
   "source": [
    "Age.copy()\n",
    "print(Age)"
   ]
  },
  {
   "cell_type": "code",
   "execution_count": null,
   "id": "6dd9bb64-283d-42b3-959a-2e899b04127c",
   "metadata": {},
   "outputs": [],
   "source": []
  }
 ],
 "metadata": {
  "kernelspec": {
   "display_name": "Python 3 (ipykernel)",
   "language": "python",
   "name": "python3"
  },
  "language_info": {
   "codemirror_mode": {
    "name": "ipython",
    "version": 3
   },
   "file_extension": ".py",
   "mimetype": "text/x-python",
   "name": "python",
   "nbconvert_exporter": "python",
   "pygments_lexer": "ipython3",
   "version": "3.9.7"
  }
 },
 "nbformat": 4,
 "nbformat_minor": 5
}
