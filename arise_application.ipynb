{
 "cells": [
  {
   "cell_type": "markdown",
   "metadata": {},
   "source": [
    "# Arise Application Challenge\n",
    "---"
   ]
  },
  {
   "cell_type": "markdown",
   "metadata": {},
   "source": [
    "Please answer the questions shown below by completing the code within this notebook and filling in your final answers in the respective block of the arise Challenge Answers form. "
   ]
  },
  {
   "cell_type": "markdown",
   "metadata": {},
   "source": [
    "---"
   ]
  },
  {
   "cell_type": "markdown",
   "metadata": {},
   "source": [
    "### Step 1 (this step does not have an answer in the answer form)"
   ]
  },
  {
   "cell_type": "markdown",
   "metadata": {},
   "source": [
    "Please import the Pandas package. You will need to install the package if you do not already have them (`hint - google anaconda install pandas`)."
   ]
  },
  {
   "cell_type": "code",
   "execution_count": 20,
   "metadata": {},
   "outputs": [],
   "source": [
    "import pandas as pd\n",
    "import numpy as np"
   ]
  },
  {
   "cell_type": "markdown",
   "metadata": {},
   "source": [
    "---"
   ]
  },
  {
   "cell_type": "markdown",
   "metadata": {},
   "source": [
    "### Step 2 (this step does not have an answer in the answer form)"
   ]
  },
  {
   "cell_type": "markdown",
   "metadata": {},
   "source": [
    "Use Pandas to read in the csv titled `application_data.csv` as a Panda's dataframe. Once you have read in the data as a dataframe use Panda's `head()` function to show an overview of the data."
   ]
  },
  {
   "cell_type": "code",
   "execution_count": 21,
   "metadata": {},
   "outputs": [
    {
     "data": {
      "text/plain": [
       "<bound method NDFrame.head of     customerID        loanId appilcationDate  LoanNumber  LoanAmount  \\\n",
       "0    839247458  302953235622      2018-12-21           1      7500.0   \n",
       "1    217540860  302960101337      2018-12-23           1      7500.0   \n",
       "2    522238092  303016988846      2019-01-08           1      7500.0   \n",
       "3    096754469  302999605504      2019-01-04           1      7500.0   \n",
       "4    410354345  302951945878      2018-12-21           1      7500.0   \n",
       "..         ...           ...             ...         ...         ...   \n",
       "995  964510149     302636726      2018-01-15           2      7500.0   \n",
       "996  251997198     302772445      2018-02-13           1      7500.0   \n",
       "997  899011279     302585439      2018-01-03           3      7500.0   \n",
       "998  648637210  302788322114      2018-11-19           1      7500.0   \n",
       "999  464788691     302683579      2018-01-24           1      7500.0   \n",
       "\n",
       "     InterestRate  TermDays repaymentDueDate repaymentPaidDate  \n",
       "0            30.0        30       2019-01-20        2019-01-16  \n",
       "1            30.0        30       2019-01-22        2018-12-29  \n",
       "2            30.0        30       2019-02-07        2019-01-08  \n",
       "3            30.0        30       2019-02-03        2019-01-08  \n",
       "4            30.0        30       2019-01-20        2019-01-17  \n",
       "..            ...       ...              ...               ...  \n",
       "995          30.0        30       2018-02-14        2018-01-20  \n",
       "996          30.0        30       2018-03-15        2018-03-14  \n",
       "997          30.0        30       2018-02-02        2018-10-12  \n",
       "998          30.0        30       2018-12-19        2018-12-17  \n",
       "999          30.0        30       2018-02-24        2018-02-11  \n",
       "\n",
       "[1000 rows x 9 columns]>"
      ]
     },
     "execution_count": 21,
     "metadata": {},
     "output_type": "execute_result"
    }
   ],
   "source": [
    "df= pd.read_csv(\"application_data.csv\")\n",
    "df.head"
   ]
  },
  {
   "cell_type": "markdown",
   "metadata": {},
   "source": [
    "You should now be able to see that the dataset contains information relating to loans that have been disbursed. Each row of the data is specific to a particular loan and displays the customer's ID that took out the loan, a unique loan ID, the date when the client applied for the loan, the loan number of the specific loan (how many loans the client has now taken out), the amount, interest rate, term days, the date when the loan repayment was due and the date the loan was actually repaid."
   ]
  },
  {
   "cell_type": "code",
   "execution_count": 22,
   "metadata": {},
   "outputs": [
    {
     "name": "stdout",
     "output_type": "stream",
     "text": [
      "<class 'pandas.core.frame.DataFrame'>\n",
      "RangeIndex: 1000 entries, 0 to 999\n",
      "Data columns (total 9 columns):\n",
      " #   Column             Non-Null Count  Dtype  \n",
      "---  ------             --------------  -----  \n",
      " 0   customerID         1000 non-null   object \n",
      " 1   loanId             1000 non-null   object \n",
      " 2   appilcationDate    1000 non-null   object \n",
      " 3   LoanNumber         1000 non-null   int64  \n",
      " 4   LoanAmount         1000 non-null   float64\n",
      " 5   InterestRate       1000 non-null   float64\n",
      " 6   TermDays           1000 non-null   int64  \n",
      " 7   repaymentDueDate   1000 non-null   object \n",
      " 8   repaymentPaidDate  1000 non-null   object \n",
      "dtypes: float64(2), int64(2), object(5)\n",
      "memory usage: 70.4+ KB\n"
     ]
    }
   ],
   "source": [
    "df.info()"
   ]
  },
  {
   "cell_type": "markdown",
   "metadata": {},
   "source": [
    "---"
   ]
  },
  {
   "cell_type": "markdown",
   "metadata": {},
   "source": [
    "### Question 1"
   ]
  },
  {
   "cell_type": "markdown",
   "metadata": {},
   "source": [
    "Convert `appilcationDate`, `repaymentDueDate` and `repaymentPaidDate` in the dataframes to datetimes. "
   ]
  },
  {
   "cell_type": "code",
   "execution_count": 23,
   "metadata": {},
   "outputs": [],
   "source": [
    "df['appilcationDate']= pd.to_datetime(df['appilcationDate'])\n",
    "df['repaymentDueDate']= pd.to_datetime(df['repaymentDueDate'])\n",
    "df['repaymentPaidDate']= pd.to_datetime(df['repaymentPaidDate'])\n"
   ]
  },
  {
   "cell_type": "markdown",
   "metadata": {},
   "source": [
    "Now that the dates have been converted, How many `unique`data types are contained within the application dataset?"
   ]
  },
  {
   "cell_type": "code",
   "execution_count": 24,
   "metadata": {},
   "outputs": [
    {
     "data": {
      "text/plain": [
       "customerID            985\n",
       "loanId               1000\n",
       "appilcationDate       254\n",
       "LoanNumber             21\n",
       "LoanAmount             86\n",
       "InterestRate           17\n",
       "TermDays                7\n",
       "repaymentDueDate      302\n",
       "repaymentPaidDate     263\n",
       "dtype: int64"
      ]
     },
     "execution_count": 24,
     "metadata": {},
     "output_type": "execute_result"
    }
   ],
   "source": [
    "df.nunique()"
   ]
  },
  {
   "cell_type": "markdown",
   "metadata": {},
   "source": [
    "### Question 2"
   ]
  },
  {
   "cell_type": "code",
   "execution_count": 25,
   "metadata": {},
   "outputs": [],
   "source": [
    "df['LoanAmount'] = df['LoanAmount'].astype(int)"
   ]
  },
  {
   "cell_type": "markdown",
   "metadata": {},
   "source": [
    "Please calculate the `average` loan amount, interest rate and termdays for all the loans in the dataset? `Round` all number to two decimal places."
   ]
  },
  {
   "cell_type": "code",
   "execution_count": 26,
   "metadata": {},
   "outputs": [
    {
     "data": {
      "text/plain": [
       "13828.08"
      ]
     },
     "execution_count": 26,
     "metadata": {},
     "output_type": "execute_result"
    }
   ],
   "source": [
    "# 2a avg loan amount\n",
    "round(df['LoanAmount']. mean(),2)"
   ]
  },
  {
   "cell_type": "code",
   "execution_count": 27,
   "metadata": {},
   "outputs": [
    {
     "data": {
      "text/plain": [
       "23.06"
      ]
     },
     "execution_count": 27,
     "metadata": {},
     "output_type": "execute_result"
    }
   ],
   "source": [
    "# 2b avg interest rate\n",
    "round(df['InterestRate'].mean(),2)\n"
   ]
  },
  {
   "cell_type": "code",
   "execution_count": 28,
   "metadata": {},
   "outputs": [
    {
     "data": {
      "text/plain": [
       "42.08"
      ]
     },
     "execution_count": 28,
     "metadata": {},
     "output_type": "execute_result"
    }
   ],
   "source": [
    "# 2c avg term days \n",
    "round(df['TermDays'].mean(),2)"
   ]
  },
  {
   "cell_type": "markdown",
   "metadata": {},
   "source": [
    "---"
   ]
  },
  {
   "cell_type": "markdown",
   "metadata": {},
   "source": [
    "### Question 3"
   ]
  },
  {
   "cell_type": "markdown",
   "metadata": {},
   "source": [
    "Please create a new column called `dateDifference` which needs to contains the number of days between when the loan was repaid and when it was due to be repaid. \n",
    "\n",
    "Count the number of loans that were paid more than 3 days late. This can be done by first creating a dataframe only containing the loans that were paid more than 3 days late. "
   ]
  },
  {
   "cell_type": "code",
   "execution_count": 29,
   "metadata": {},
   "outputs": [
    {
     "data": {
      "text/plain": [
       "555"
      ]
     },
     "execution_count": 29,
     "metadata": {},
     "output_type": "execute_result"
    }
   ],
   "source": [
    "# number of loans more than 3 days late \t\n",
    "df['dateDifference']= df['repaymentDueDate'] - df['repaymentPaidDate']\n",
    "df['dfloan']= df['dateDifference'] > '3 days'\n",
    "loan = df[(df['dfloan']== True)]\n",
    "loan['dfloan'].count()"
   ]
  },
  {
   "cell_type": "markdown",
   "metadata": {},
   "source": [
    "---"
   ]
  },
  {
   "cell_type": "markdown",
   "metadata": {},
   "source": [
    "### Question 4"
   ]
  },
  {
   "cell_type": "markdown",
   "metadata": {},
   "source": [
    "Please group the dataset by `TermDays` and calculate the `mean` loan amount and the `standard deviation` of loan amount within each term.\n",
    "\n",
    "What is the mean loan amount in 30-day loans and what is the standard deviation of  loan amount in 90-day loans? Please give your answers to the nearest two decimal places. "
   ]
  },
  {
   "cell_type": "code",
   "execution_count": 30,
   "metadata": {},
   "outputs": [
    {
     "data": {
      "text/plain": [
       "7941.96"
      ]
     },
     "execution_count": 30,
     "metadata": {},
     "output_type": "execute_result"
    }
   ],
   "source": [
    "group= df.groupby('TermDays')\n",
    "Tday= group['LoanAmount'].mean()[30]\n",
    "Tday.round(2)"
   ]
  },
  {
   "cell_type": "raw",
   "metadata": {
    "tags": []
   },
   "source": [
    "--- "
   ]
  },
  {
   "cell_type": "code",
   "execution_count": 31,
   "metadata": {},
   "outputs": [
    {
     "data": {
      "text/plain": [
       "18050.14"
      ]
     },
     "execution_count": 31,
     "metadata": {},
     "output_type": "execute_result"
    }
   ],
   "source": [
    "Nday= group['LoanAmount'].std()[90]\n",
    "Nday.round(2)"
   ]
  },
  {
   "cell_type": "markdown",
   "metadata": {},
   "source": [
    "### Question 5"
   ]
  },
  {
   "cell_type": "markdown",
   "metadata": {},
   "source": [
    "`Late` loans are defined as loans that were paid `more than 3 days` after their due date. Please find the average number of days that these loans were paid beyond their due date for each `week of the year`. This will require you to break all `appilcationDate's` down into the week of the year they were made and then perform a group by. \n",
    "\n",
    "What is the average number of days that `late` loans applied for in the second week of the year were paid late? Please sumbit your answer rounded to two decimal places. "
   ]
  },
  {
   "cell_type": "code",
   "execution_count": 32,
   "metadata": {},
   "outputs": [
    {
     "data": {
      "text/html": [
       "<div>\n",
       "<style scoped>\n",
       "    .dataframe tbody tr th:only-of-type {\n",
       "        vertical-align: middle;\n",
       "    }\n",
       "\n",
       "    .dataframe tbody tr th {\n",
       "        vertical-align: top;\n",
       "    }\n",
       "\n",
       "    .dataframe thead th {\n",
       "        text-align: right;\n",
       "    }\n",
       "</style>\n",
       "<table border=\"1\" class=\"dataframe\">\n",
       "  <thead>\n",
       "    <tr style=\"text-align: right;\">\n",
       "      <th></th>\n",
       "      <th>customerID</th>\n",
       "      <th>loanId</th>\n",
       "      <th>appilcationDate</th>\n",
       "      <th>LoanNumber</th>\n",
       "      <th>LoanAmount</th>\n",
       "      <th>InterestRate</th>\n",
       "      <th>TermDays</th>\n",
       "      <th>repaymentDueDate</th>\n",
       "      <th>repaymentPaidDate</th>\n",
       "      <th>dateDifference</th>\n",
       "      <th>dfloan</th>\n",
       "      <th>applicationWeek</th>\n",
       "    </tr>\n",
       "  </thead>\n",
       "  <tbody>\n",
       "    <tr>\n",
       "      <th>0</th>\n",
       "      <td>839247458</td>\n",
       "      <td>302953235622</td>\n",
       "      <td>2018-12-21</td>\n",
       "      <td>1</td>\n",
       "      <td>7500</td>\n",
       "      <td>30.0</td>\n",
       "      <td>30</td>\n",
       "      <td>2019-01-20</td>\n",
       "      <td>2019-01-16</td>\n",
       "      <td>4 days</td>\n",
       "      <td>True</td>\n",
       "      <td>51</td>\n",
       "    </tr>\n",
       "    <tr>\n",
       "      <th>1</th>\n",
       "      <td>217540860</td>\n",
       "      <td>302960101337</td>\n",
       "      <td>2018-12-23</td>\n",
       "      <td>1</td>\n",
       "      <td>7500</td>\n",
       "      <td>30.0</td>\n",
       "      <td>30</td>\n",
       "      <td>2019-01-22</td>\n",
       "      <td>2018-12-29</td>\n",
       "      <td>24 days</td>\n",
       "      <td>True</td>\n",
       "      <td>51</td>\n",
       "    </tr>\n",
       "    <tr>\n",
       "      <th>2</th>\n",
       "      <td>522238092</td>\n",
       "      <td>303016988846</td>\n",
       "      <td>2019-01-08</td>\n",
       "      <td>1</td>\n",
       "      <td>7500</td>\n",
       "      <td>30.0</td>\n",
       "      <td>30</td>\n",
       "      <td>2019-02-07</td>\n",
       "      <td>2019-01-08</td>\n",
       "      <td>30 days</td>\n",
       "      <td>True</td>\n",
       "      <td>2</td>\n",
       "    </tr>\n",
       "    <tr>\n",
       "      <th>3</th>\n",
       "      <td>096754469</td>\n",
       "      <td>302999605504</td>\n",
       "      <td>2019-01-04</td>\n",
       "      <td>1</td>\n",
       "      <td>7500</td>\n",
       "      <td>30.0</td>\n",
       "      <td>30</td>\n",
       "      <td>2019-02-03</td>\n",
       "      <td>2019-01-08</td>\n",
       "      <td>26 days</td>\n",
       "      <td>True</td>\n",
       "      <td>1</td>\n",
       "    </tr>\n",
       "    <tr>\n",
       "      <th>4</th>\n",
       "      <td>410354345</td>\n",
       "      <td>302951945878</td>\n",
       "      <td>2018-12-21</td>\n",
       "      <td>1</td>\n",
       "      <td>7500</td>\n",
       "      <td>30.0</td>\n",
       "      <td>30</td>\n",
       "      <td>2019-01-20</td>\n",
       "      <td>2019-01-17</td>\n",
       "      <td>3 days</td>\n",
       "      <td>False</td>\n",
       "      <td>51</td>\n",
       "    </tr>\n",
       "    <tr>\n",
       "      <th>5</th>\n",
       "      <td>027610141</td>\n",
       "      <td>302955854172</td>\n",
       "      <td>2018-12-22</td>\n",
       "      <td>6</td>\n",
       "      <td>45000</td>\n",
       "      <td>10.0</td>\n",
       "      <td>90</td>\n",
       "      <td>2019-03-21</td>\n",
       "      <td>2019-01-09</td>\n",
       "      <td>71 days</td>\n",
       "      <td>True</td>\n",
       "      <td>51</td>\n",
       "    </tr>\n",
       "    <tr>\n",
       "      <th>6</th>\n",
       "      <td>390748423</td>\n",
       "      <td>302941689535</td>\n",
       "      <td>2018-12-19</td>\n",
       "      <td>4</td>\n",
       "      <td>90000</td>\n",
       "      <td>5.0</td>\n",
       "      <td>180</td>\n",
       "      <td>2019-06-18</td>\n",
       "      <td>2019-01-15</td>\n",
       "      <td>154 days</td>\n",
       "      <td>True</td>\n",
       "      <td>51</td>\n",
       "    </tr>\n",
       "    <tr>\n",
       "      <th>7</th>\n",
       "      <td>642947351</td>\n",
       "      <td>302945727970</td>\n",
       "      <td>2018-12-19</td>\n",
       "      <td>3</td>\n",
       "      <td>45000</td>\n",
       "      <td>10.0</td>\n",
       "      <td>90</td>\n",
       "      <td>2019-03-19</td>\n",
       "      <td>2019-01-16</td>\n",
       "      <td>62 days</td>\n",
       "      <td>True</td>\n",
       "      <td>51</td>\n",
       "    </tr>\n",
       "    <tr>\n",
       "      <th>8</th>\n",
       "      <td>227382168</td>\n",
       "      <td>302953081988</td>\n",
       "      <td>2018-12-21</td>\n",
       "      <td>4</td>\n",
       "      <td>45000</td>\n",
       "      <td>10.0</td>\n",
       "      <td>90</td>\n",
       "      <td>2019-03-20</td>\n",
       "      <td>2019-01-16</td>\n",
       "      <td>63 days</td>\n",
       "      <td>True</td>\n",
       "      <td>51</td>\n",
       "    </tr>\n",
       "    <tr>\n",
       "      <th>9</th>\n",
       "      <td>380684555</td>\n",
       "      <td>302997991362</td>\n",
       "      <td>2019-01-03</td>\n",
       "      <td>4</td>\n",
       "      <td>30000</td>\n",
       "      <td>10.0</td>\n",
       "      <td>90</td>\n",
       "      <td>2019-04-02</td>\n",
       "      <td>2019-01-11</td>\n",
       "      <td>81 days</td>\n",
       "      <td>True</td>\n",
       "      <td>1</td>\n",
       "    </tr>\n",
       "  </tbody>\n",
       "</table>\n",
       "</div>"
      ],
      "text/plain": [
       "  customerID        loanId appilcationDate  LoanNumber  LoanAmount  \\\n",
       "0  839247458  302953235622      2018-12-21           1        7500   \n",
       "1  217540860  302960101337      2018-12-23           1        7500   \n",
       "2  522238092  303016988846      2019-01-08           1        7500   \n",
       "3  096754469  302999605504      2019-01-04           1        7500   \n",
       "4  410354345  302951945878      2018-12-21           1        7500   \n",
       "5  027610141  302955854172      2018-12-22           6       45000   \n",
       "6  390748423  302941689535      2018-12-19           4       90000   \n",
       "7  642947351  302945727970      2018-12-19           3       45000   \n",
       "8  227382168  302953081988      2018-12-21           4       45000   \n",
       "9  380684555  302997991362      2019-01-03           4       30000   \n",
       "\n",
       "   InterestRate  TermDays repaymentDueDate repaymentPaidDate dateDifference  \\\n",
       "0          30.0        30       2019-01-20        2019-01-16         4 days   \n",
       "1          30.0        30       2019-01-22        2018-12-29        24 days   \n",
       "2          30.0        30       2019-02-07        2019-01-08        30 days   \n",
       "3          30.0        30       2019-02-03        2019-01-08        26 days   \n",
       "4          30.0        30       2019-01-20        2019-01-17         3 days   \n",
       "5          10.0        90       2019-03-21        2019-01-09        71 days   \n",
       "6           5.0       180       2019-06-18        2019-01-15       154 days   \n",
       "7          10.0        90       2019-03-19        2019-01-16        62 days   \n",
       "8          10.0        90       2019-03-20        2019-01-16        63 days   \n",
       "9          10.0        90       2019-04-02        2019-01-11        81 days   \n",
       "\n",
       "   dfloan  applicationWeek  \n",
       "0    True               51  \n",
       "1    True               51  \n",
       "2    True                2  \n",
       "3    True                1  \n",
       "4   False               51  \n",
       "5    True               51  \n",
       "6    True               51  \n",
       "7    True               51  \n",
       "8    True               51  \n",
       "9    True                1  "
      ]
     },
     "execution_count": 32,
     "metadata": {},
     "output_type": "execute_result"
    }
   ],
   "source": [
    "# week of year and average number of late days\n",
    "df['applicationWeek'] = df['appilcationDate'].dt.isocalendar().week\n",
    "df.head(10)"
   ]
  },
  {
   "cell_type": "code",
   "execution_count": 33,
   "metadata": {},
   "outputs": [
    {
     "data": {
      "text/html": [
       "<div>\n",
       "<style scoped>\n",
       "    .dataframe tbody tr th:only-of-type {\n",
       "        vertical-align: middle;\n",
       "    }\n",
       "\n",
       "    .dataframe tbody tr th {\n",
       "        vertical-align: top;\n",
       "    }\n",
       "\n",
       "    .dataframe thead th {\n",
       "        text-align: right;\n",
       "    }\n",
       "</style>\n",
       "<table border=\"1\" class=\"dataframe\">\n",
       "  <thead>\n",
       "    <tr style=\"text-align: right;\">\n",
       "      <th></th>\n",
       "      <th>customerID</th>\n",
       "      <th>loanId</th>\n",
       "      <th>appilcationDate</th>\n",
       "      <th>LoanNumber</th>\n",
       "      <th>LoanAmount</th>\n",
       "      <th>InterestRate</th>\n",
       "      <th>TermDays</th>\n",
       "      <th>repaymentDueDate</th>\n",
       "      <th>repaymentPaidDate</th>\n",
       "      <th>dateDifference</th>\n",
       "      <th>dfloan</th>\n",
       "      <th>applicationWeek</th>\n",
       "    </tr>\n",
       "  </thead>\n",
       "  <tbody>\n",
       "    <tr>\n",
       "      <th>995</th>\n",
       "      <td>964510149</td>\n",
       "      <td>302636726</td>\n",
       "      <td>2018-01-15</td>\n",
       "      <td>2</td>\n",
       "      <td>7500</td>\n",
       "      <td>30.0</td>\n",
       "      <td>30</td>\n",
       "      <td>2018-02-14</td>\n",
       "      <td>2018-01-20</td>\n",
       "      <td>25 days</td>\n",
       "      <td>True</td>\n",
       "      <td>3</td>\n",
       "    </tr>\n",
       "    <tr>\n",
       "      <th>996</th>\n",
       "      <td>251997198</td>\n",
       "      <td>302772445</td>\n",
       "      <td>2018-02-13</td>\n",
       "      <td>1</td>\n",
       "      <td>7500</td>\n",
       "      <td>30.0</td>\n",
       "      <td>30</td>\n",
       "      <td>2018-03-15</td>\n",
       "      <td>2018-03-14</td>\n",
       "      <td>1 days</td>\n",
       "      <td>False</td>\n",
       "      <td>7</td>\n",
       "    </tr>\n",
       "    <tr>\n",
       "      <th>997</th>\n",
       "      <td>899011279</td>\n",
       "      <td>302585439</td>\n",
       "      <td>2018-01-03</td>\n",
       "      <td>3</td>\n",
       "      <td>7500</td>\n",
       "      <td>30.0</td>\n",
       "      <td>30</td>\n",
       "      <td>2018-02-02</td>\n",
       "      <td>2018-10-12</td>\n",
       "      <td>-252 days</td>\n",
       "      <td>False</td>\n",
       "      <td>1</td>\n",
       "    </tr>\n",
       "    <tr>\n",
       "      <th>998</th>\n",
       "      <td>648637210</td>\n",
       "      <td>302788322114</td>\n",
       "      <td>2018-11-19</td>\n",
       "      <td>1</td>\n",
       "      <td>7500</td>\n",
       "      <td>30.0</td>\n",
       "      <td>30</td>\n",
       "      <td>2018-12-19</td>\n",
       "      <td>2018-12-17</td>\n",
       "      <td>2 days</td>\n",
       "      <td>False</td>\n",
       "      <td>47</td>\n",
       "    </tr>\n",
       "    <tr>\n",
       "      <th>999</th>\n",
       "      <td>464788691</td>\n",
       "      <td>302683579</td>\n",
       "      <td>2018-01-24</td>\n",
       "      <td>1</td>\n",
       "      <td>7500</td>\n",
       "      <td>30.0</td>\n",
       "      <td>30</td>\n",
       "      <td>2018-02-24</td>\n",
       "      <td>2018-02-11</td>\n",
       "      <td>13 days</td>\n",
       "      <td>True</td>\n",
       "      <td>4</td>\n",
       "    </tr>\n",
       "  </tbody>\n",
       "</table>\n",
       "</div>"
      ],
      "text/plain": [
       "    customerID        loanId appilcationDate  LoanNumber  LoanAmount  \\\n",
       "995  964510149     302636726      2018-01-15           2        7500   \n",
       "996  251997198     302772445      2018-02-13           1        7500   \n",
       "997  899011279     302585439      2018-01-03           3        7500   \n",
       "998  648637210  302788322114      2018-11-19           1        7500   \n",
       "999  464788691     302683579      2018-01-24           1        7500   \n",
       "\n",
       "     InterestRate  TermDays repaymentDueDate repaymentPaidDate dateDifference  \\\n",
       "995          30.0        30       2018-02-14        2018-01-20        25 days   \n",
       "996          30.0        30       2018-03-15        2018-03-14         1 days   \n",
       "997          30.0        30       2018-02-02        2018-10-12      -252 days   \n",
       "998          30.0        30       2018-12-19        2018-12-17         2 days   \n",
       "999          30.0        30       2018-02-24        2018-02-11        13 days   \n",
       "\n",
       "     dfloan  applicationWeek  \n",
       "995    True                3  \n",
       "996   False                7  \n",
       "997   False                1  \n",
       "998   False               47  \n",
       "999    True                4  "
      ]
     },
     "execution_count": 33,
     "metadata": {},
     "output_type": "execute_result"
    }
   ],
   "source": [
    "df.tail()"
   ]
  },
  {
   "cell_type": "code",
   "execution_count": 42,
   "metadata": {},
   "outputs": [
    {
     "data": {
      "text/plain": [
       "applicationWeek\n",
       "2   13 days 18:45:31.034482758\n",
       "Name: dateDifference, dtype: timedelta64[ns]"
      ]
     },
     "execution_count": 42,
     "metadata": {},
     "output_type": "execute_result"
    }
   ],
   "source": [
    "df[df['applicationWeek']== 2].groupby('applicationWeek')['dateDifference'].mean()"
   ]
  },
  {
   "cell_type": "markdown",
   "metadata": {},
   "source": [
    "---"
   ]
  },
  {
   "cell_type": "markdown",
   "metadata": {},
   "source": [
    "### The End"
   ]
  },
  {
   "cell_type": "markdown",
   "metadata": {},
   "source": [
    "Thank you for completing the challenge. Please make sure you have submitted all of your answers to the arise Challenge Answers form. "
   ]
  },
  {
   "cell_type": "markdown",
   "metadata": {},
   "source": [
    "### Notebook\n",
    "Please save you notebook as `yourEmail.ipynb` where you replace `yourEmail` with your actual email address and attach it to the iodeajo@gmail.com. "
   ]
  }
 ],
 "metadata": {
  "kernelspec": {
   "display_name": "Python 3 (ipykernel)",
   "language": "python",
   "name": "python3"
  },
  "language_info": {
   "codemirror_mode": {
    "name": "ipython",
    "version": 3
   },
   "file_extension": ".py",
   "mimetype": "text/x-python",
   "name": "python",
   "nbconvert_exporter": "python",
   "pygments_lexer": "ipython3",
   "version": "3.9.7"
  }
 },
 "nbformat": 4,
 "nbformat_minor": 4
}
