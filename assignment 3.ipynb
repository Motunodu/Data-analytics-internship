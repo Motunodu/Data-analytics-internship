{
 "cells": [
  {
   "cell_type": "code",
   "execution_count": 21,
   "id": "5aadb275-a1b4-4b3f-abc8-49c01c7e97d4",
   "metadata": {},
   "outputs": [
    {
     "name": "stdin",
     "output_type": "stream",
     "text": [
      "what is Tola's grade in English 70\n"
     ]
    },
    {
     "name": "stdout",
     "output_type": "stream",
     "text": [
      "C\n"
     ]
    }
   ],
   "source": [
    "score = 70\n",
    "Question = int(input(\"what is Tola's grade in English\"))\n",
    "if(score <= 40 and score < 50):\n",
    "    grade = 'D'\n",
    "elif(score >= 51 and score < 60):\n",
    "    grade = 'C'\n",
    "elif(score >= 61 and score < 70):\n",
    "    grade = 'B'        \n",
    "elif(score >= 71 and score < 100):\n",
    "    grade = 'A'\n",
    "print(grade)"
   ]
  },
  {
   "cell_type": "code",
   "execution_count": null,
   "id": "90b58f84-8f74-4c77-a8a9-660c9c4262d3",
   "metadata": {},
   "outputs": [],
   "source": []
  },
  {
   "cell_type": "code",
   "execution_count": null,
   "id": "dc87c2c8-fdeb-4ba7-8785-adab5893a6d1",
   "metadata": {},
   "outputs": [],
   "source": []
  }
 ],
 "metadata": {
  "kernelspec": {
   "display_name": "Python 3 (ipykernel)",
   "language": "python",
   "name": "python3"
  },
  "language_info": {
   "codemirror_mode": {
    "name": "ipython",
    "version": 3
   },
   "file_extension": ".py",
   "mimetype": "text/x-python",
   "name": "python",
   "nbconvert_exporter": "python",
   "pygments_lexer": "ipython3",
   "version": "3.9.7"
  }
 },
 "nbformat": 4,
 "nbformat_minor": 5
}
